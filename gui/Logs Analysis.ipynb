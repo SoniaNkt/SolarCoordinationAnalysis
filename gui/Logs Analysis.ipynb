{
 "cells": [
  {
   "cell_type": "code",
   "execution_count": 20,
   "id": "b42afa0d",
   "metadata": {},
   "outputs": [],
   "source": [
    "import pandas as pd\n",
    "from matplotlib import pyplot as plt\n",
    "import datetime\n",
    "import numpy as np"
   ]
  },
  {
   "cell_type": "code",
   "execution_count": 307,
   "id": "4344fed3",
   "metadata": {},
   "outputs": [
    {
     "data": {
      "text/html": [
       "<div>\n",
       "<style scoped>\n",
       "    .dataframe tbody tr th:only-of-type {\n",
       "        vertical-align: middle;\n",
       "    }\n",
       "\n",
       "    .dataframe tbody tr th {\n",
       "        vertical-align: top;\n",
       "    }\n",
       "\n",
       "    .dataframe thead th {\n",
       "        text-align: right;\n",
       "    }\n",
       "</style>\n",
       "<table border=\"1\" class=\"dataframe\">\n",
       "  <thead>\n",
       "    <tr style=\"text-align: right;\">\n",
       "      <th></th>\n",
       "      <th>dateTime</th>\n",
       "      <th>participant</th>\n",
       "      <th>view</th>\n",
       "      <th>commandType</th>\n",
       "      <th>LogType</th>\n",
       "      <th>commandParameters</th>\n",
       "    </tr>\n",
       "  </thead>\n",
       "  <tbody>\n",
       "    <tr>\n",
       "      <th>0</th>\n",
       "      <td>2023-05-08 09:22:56</td>\n",
       "      <td>11</td>\n",
       "      <td>over_view</td>\n",
       "      <td>GET</td>\n",
       "      <td>INFO</td>\n",
       "      <td>{}</td>\n",
       "    </tr>\n",
       "    <tr>\n",
       "      <th>1</th>\n",
       "      <td>2023-05-08 09:22:56</td>\n",
       "      <td>11</td>\n",
       "      <td>over_view</td>\n",
       "      <td>GET</td>\n",
       "      <td>INFO</td>\n",
       "      <td>{}</td>\n",
       "    </tr>\n",
       "    <tr>\n",
       "      <th>10</th>\n",
       "      <td>2023-05-08 09:23:54</td>\n",
       "      <td>11</td>\n",
       "      <td>home_view</td>\n",
       "      <td>GET</td>\n",
       "      <td>INFO</td>\n",
       "      <td>{}</td>\n",
       "    </tr>\n",
       "    <tr>\n",
       "      <th>11</th>\n",
       "      <td>2023-05-08 09:23:54</td>\n",
       "      <td>11</td>\n",
       "      <td>home_view</td>\n",
       "      <td>GET</td>\n",
       "      <td>INFO</td>\n",
       "      <td>{}</td>\n",
       "    </tr>\n",
       "    <tr>\n",
       "      <th>18</th>\n",
       "      <td>2023-05-08 09:29:54</td>\n",
       "      <td>10</td>\n",
       "      <td>home_view</td>\n",
       "      <td>GET</td>\n",
       "      <td>INFO</td>\n",
       "      <td>{}</td>\n",
       "    </tr>\n",
       "    <tr>\n",
       "      <th>...</th>\n",
       "      <td>...</td>\n",
       "      <td>...</td>\n",
       "      <td>...</td>\n",
       "      <td>...</td>\n",
       "      <td>...</td>\n",
       "      <td>...</td>\n",
       "    </tr>\n",
       "    <tr>\n",
       "      <th>3084</th>\n",
       "      <td>2023-05-07 20:04:02</td>\n",
       "      <td>10</td>\n",
       "      <td>home_view</td>\n",
       "      <td>GET</td>\n",
       "      <td>INFO</td>\n",
       "      <td>{}</td>\n",
       "    </tr>\n",
       "    <tr>\n",
       "      <th>3097</th>\n",
       "      <td>2023-05-07 20:05:41</td>\n",
       "      <td>10</td>\n",
       "      <td>over_view</td>\n",
       "      <td>GET</td>\n",
       "      <td>INFO</td>\n",
       "      <td>{}</td>\n",
       "    </tr>\n",
       "    <tr>\n",
       "      <th>3098</th>\n",
       "      <td>2023-05-07 20:05:41</td>\n",
       "      <td>10</td>\n",
       "      <td>over_view</td>\n",
       "      <td>GET</td>\n",
       "      <td>INFO</td>\n",
       "      <td>{}</td>\n",
       "    </tr>\n",
       "    <tr>\n",
       "      <th>3109</th>\n",
       "      <td>2023-05-07 20:06:26</td>\n",
       "      <td>10</td>\n",
       "      <td>home_view</td>\n",
       "      <td>GET</td>\n",
       "      <td>INFO</td>\n",
       "      <td>{}</td>\n",
       "    </tr>\n",
       "    <tr>\n",
       "      <th>3110</th>\n",
       "      <td>2023-05-07 20:06:26</td>\n",
       "      <td>10</td>\n",
       "      <td>home_view</td>\n",
       "      <td>GET</td>\n",
       "      <td>INFO</td>\n",
       "      <td>{}</td>\n",
       "    </tr>\n",
       "  </tbody>\n",
       "</table>\n",
       "<p>8598 rows × 6 columns</p>\n",
       "</div>"
      ],
      "text/plain": [
       "                dateTime participant       view commandType LogType  \\\n",
       "0    2023-05-08 09:22:56          11  over_view         GET   INFO    \n",
       "1    2023-05-08 09:22:56          11  over_view         GET   INFO    \n",
       "10   2023-05-08 09:23:54          11  home_view         GET   INFO    \n",
       "11   2023-05-08 09:23:54          11  home_view         GET   INFO    \n",
       "18   2023-05-08 09:29:54          10  home_view         GET   INFO    \n",
       "...                  ...         ...        ...         ...     ...   \n",
       "3084 2023-05-07 20:04:02          10  home_view         GET   INFO    \n",
       "3097 2023-05-07 20:05:41          10  over_view         GET   INFO    \n",
       "3098 2023-05-07 20:05:41          10  over_view         GET   INFO    \n",
       "3109 2023-05-07 20:06:26          10  home_view         GET   INFO    \n",
       "3110 2023-05-07 20:06:26          10  home_view         GET   INFO    \n",
       "\n",
       "     commandParameters  \n",
       "0                   {}  \n",
       "1                   {}  \n",
       "10                  {}  \n",
       "11                  {}  \n",
       "18                  {}  \n",
       "...                ...  \n",
       "3084                {}  \n",
       "3097                {}  \n",
       "3098                {}  \n",
       "3109                {}  \n",
       "3110                {}  \n",
       "\n",
       "[8598 rows x 6 columns]"
      ]
     },
     "execution_count": 307,
     "metadata": {},
     "output_type": "execute_result"
    }
   ],
   "source": [
    "cols = ['dateTime','participant','view','commandType']\n",
    "viewstoKeep = ['home_view','over_view','annotate'] \n",
    "\n",
    "group1Participants = ['10', '11','12','13'] \n",
    "startAnnotation = datetime.datetime(2023,3,30,0,0,0,0) \n",
    "startCoordination = datetime.datetime(2023,4,21,0,0,0,0) \n",
    "\n",
    "#     parse_dates=['dateTime'])\n",
    "\n",
    "# Step1. 'Manually' Cleaned logs with Regex: \n",
    "# Traceback \\(most recent call last\\):(?:\\n.*)+?\\n(.*?(?:Exception|Error):)\\s*(.+) as found from \n",
    "# https://stackoverflow.com/questions/53658695/how-to-match-the-whole-traceback-message-and-not-stop-early-using-regex\n",
    "# Then removed double extra lines and 1 extra sentece.\n",
    "\n",
    "logs0 = pd.read_csv(\"usage.log\", header=None, names=cols)\n",
    "logs1 = pd.read_csv(\"usage.log.2023-04-04\", header=None, names=cols)\n",
    "logs2 = pd.read_csv(\"usage.log.2023-04-12\",  header=None, names=cols)\n",
    "logs3 = pd.read_csv(\"usage.log.2023-04-20\",  header=None, names=cols)\n",
    "logs4 = pd.read_csv(\"usage.log.2023-04-30\",  header=None, names=cols)\n",
    "\n",
    "logs = pd.concat([logs0,logs1,logs2,logs3,logs4])\n",
    "\n",
    "logs = pd.DataFrame(logs)\n",
    "\n",
    "logs[['A','dateTime']] = logs['dateTime'].str.split(r'|', 1, expand=True)               \n",
    "logs[['LogType','dateTime']] = logs['dateTime'].str.split('2023',1, expand=True)    \n",
    "logs['dateTime'] = '2023' + logs['dateTime'].astype(str)\n",
    "\n",
    "# Do not analyse WARNINGS or ERRORS here\n",
    "logs = logs.loc[logs['LogType'] == ' INFO ' ] \n",
    "\n",
    "logs[['B','participant']] = logs['participant'].str.split(':', 1, expand=True)\n",
    "logs[['C','view']] = logs['view'].str.split(':', 1, expand=True)\n",
    "logs[['commandType','commandParameters']] = logs['commandType'].str.split(':', 1, expand=True)\n",
    "del logs['A']\n",
    "del logs['B']\n",
    "del logs['C']\n",
    "\n",
    "logs['dateTime'] = pd.to_datetime(logs['dateTime'],infer_datetime_format=True)\n",
    "logs['view'] = logs['view'].str.replace('\"', '') \n",
    "logs['view'] = logs['view'].str.replace(' ', '') \n",
    "logs['participant'] = logs['participant'].str.replace('\"', '') \n",
    "logs['participant'] = logs['participant'].str.replace(' ', '') \n",
    "logs['commandType'] = logs['commandType'].str.replace('\"', '') \n",
    "\n",
    "logs['participant'].astype(str)\n",
    "logs['view'].astype(str)\n",
    "\n",
    "logs = logs.loc[logs['participant'].isin(group1Participants)] \n",
    "logs = logs.loc[logs['view'].isin(viewstoKeep)] \n",
    "logs = logs.loc[logs['dateTime'] >= startAnnotation ] \n",
    "\n",
    "logs"
   ]
  },
  {
   "cell_type": "markdown",
   "id": "dafaa951",
   "metadata": {},
   "source": []
  },
  {
   "cell_type": "code",
   "execution_count": 308,
   "id": "72756692",
   "metadata": {},
   "outputs": [
    {
     "data": {
      "text/html": [
       "<div>\n",
       "<style scoped>\n",
       "    .dataframe tbody tr th:only-of-type {\n",
       "        vertical-align: middle;\n",
       "    }\n",
       "\n",
       "    .dataframe tbody tr th {\n",
       "        vertical-align: top;\n",
       "    }\n",
       "\n",
       "    .dataframe thead th {\n",
       "        text-align: right;\n",
       "    }\n",
       "</style>\n",
       "<table border=\"1\" class=\"dataframe\">\n",
       "  <thead>\n",
       "    <tr style=\"text-align: right;\">\n",
       "      <th></th>\n",
       "      <th></th>\n",
       "      <th></th>\n",
       "      <th>commandParameters</th>\n",
       "    </tr>\n",
       "    <tr>\n",
       "      <th>participant</th>\n",
       "      <th>view</th>\n",
       "      <th>dateTime</th>\n",
       "      <th></th>\n",
       "    </tr>\n",
       "  </thead>\n",
       "  <tbody>\n",
       "    <tr>\n",
       "      <th rowspan=\"5\" valign=\"top\">10</th>\n",
       "      <th rowspan=\"5\" valign=\"top\">annotate</th>\n",
       "      <th>2023-03-30</th>\n",
       "      <td>18</td>\n",
       "    </tr>\n",
       "    <tr>\n",
       "      <th>2023-03-31</th>\n",
       "      <td>2</td>\n",
       "    </tr>\n",
       "    <tr>\n",
       "      <th>2023-04-01</th>\n",
       "      <td>4</td>\n",
       "    </tr>\n",
       "    <tr>\n",
       "      <th>2023-04-02</th>\n",
       "      <td>4</td>\n",
       "    </tr>\n",
       "    <tr>\n",
       "      <th>2023-04-04</th>\n",
       "      <td>2</td>\n",
       "    </tr>\n",
       "    <tr>\n",
       "      <th>...</th>\n",
       "      <th>...</th>\n",
       "      <th>...</th>\n",
       "      <td>...</td>\n",
       "    </tr>\n",
       "    <tr>\n",
       "      <th rowspan=\"5\" valign=\"top\">13</th>\n",
       "      <th rowspan=\"3\" valign=\"top\">home_view</th>\n",
       "      <th>2023-05-01</th>\n",
       "      <td>4</td>\n",
       "    </tr>\n",
       "    <tr>\n",
       "      <th>2023-05-02</th>\n",
       "      <td>8</td>\n",
       "    </tr>\n",
       "    <tr>\n",
       "      <th>2023-05-03</th>\n",
       "      <td>2</td>\n",
       "    </tr>\n",
       "    <tr>\n",
       "      <th rowspan=\"2\" valign=\"top\">over_view</th>\n",
       "      <th>2023-04-01</th>\n",
       "      <td>2</td>\n",
       "    </tr>\n",
       "    <tr>\n",
       "      <th>2023-04-28</th>\n",
       "      <td>2</td>\n",
       "    </tr>\n",
       "  </tbody>\n",
       "</table>\n",
       "<p>185 rows × 1 columns</p>\n",
       "</div>"
      ],
      "text/plain": [
       "                                  commandParameters\n",
       "participant view      dateTime                     \n",
       "10          annotate  2023-03-30                 18\n",
       "                      2023-03-31                  2\n",
       "                      2023-04-01                  4\n",
       "                      2023-04-02                  4\n",
       "                      2023-04-04                  2\n",
       "...                                             ...\n",
       "13          home_view 2023-05-01                  4\n",
       "                      2023-05-02                  8\n",
       "                      2023-05-03                  2\n",
       "            over_view 2023-04-01                  2\n",
       "                      2023-04-28                  2\n",
       "\n",
       "[185 rows x 1 columns]"
      ]
     },
     "execution_count": 308,
     "metadata": {},
     "output_type": "execute_result"
    }
   ],
   "source": [
    "pp = logs.groupby(['participant','view',logs.dateTime.dt.date])\n",
    "ff = pp.agg({'commandParameters':'count'})\n",
    "(ff)"
   ]
  },
  {
   "cell_type": "code",
   "execution_count": 310,
   "id": "789db729",
   "metadata": {},
   "outputs": [
    {
     "data": {
      "text/plain": [
       "array([[<AxesSubplot:title={'center':'annotate'}, xlabel='dateTime'>],\n",
       "       [<AxesSubplot:title={'center':'home_view'}, xlabel='dateTime'>],\n",
       "       [<AxesSubplot:title={'center':'over_view'}, xlabel='dateTime'>],\n",
       "       [<AxesSubplot:xlabel='dateTime'>],\n",
       "       [<AxesSubplot:xlabel='dateTime'>],\n",
       "       [<AxesSubplot:xlabel='dateTime'>],\n",
       "       [<AxesSubplot:xlabel='dateTime'>],\n",
       "       [<AxesSubplot:xlabel='dateTime'>],\n",
       "       [<AxesSubplot:xlabel='dateTime'>],\n",
       "       [<AxesSubplot:xlabel='dateTime'>]], dtype=object)"
      ]
     },
     "execution_count": 310,
     "metadata": {},
     "output_type": "execute_result"
    },
    {
     "data": {
      "image/png": "[encoded data removed]",
      "text/plain": [
       "<Figure size 1440x2160 with 10 Axes>"
      ]
     },
     "metadata": {
      "needs_background": "light"
     },
     "output_type": "display_data"
    }
   ],
   "source": [
    "pd.pivot_table(ff.reset_index(),\n",
    "               index='dateTime', columns='view', values='commandParameters'\n",
    "              ).plot.bar(subplots=True, layout=(10,1),figsize=(20, 30))"
   ]
  },
  {
   "cell_type": "code",
   "execution_count": 297,
   "id": "06c73ea0",
   "metadata": {},
   "outputs": [
    {
     "data": {
      "text/plain": [
       "array([[<AxesSubplot:title={'center':'10'}, xlabel='dateTime'>],\n",
       "       [<AxesSubplot:title={'center':'11'}, xlabel='dateTime'>],\n",
       "       [<AxesSubplot:title={'center':'12'}, xlabel='dateTime'>],\n",
       "       [<AxesSubplot:title={'center':'13'}, xlabel='dateTime'>],\n",
       "       [<AxesSubplot:xlabel='dateTime'>],\n",
       "       [<AxesSubplot:xlabel='dateTime'>],\n",
       "       [<AxesSubplot:xlabel='dateTime'>],\n",
       "       [<AxesSubplot:xlabel='dateTime'>],\n",
       "       [<AxesSubplot:xlabel='dateTime'>],\n",
       "       [<AxesSubplot:xlabel='dateTime'>]], dtype=object)"
      ]
     },
     "execution_count": 297,
     "metadata": {},
     "output_type": "execute_result"
    },
    {
     "data": {
      "image/png": "[encoded data removed]",
      "text/plain": [
       "<Figure size 1440x2160 with 10 Axes>"
      ]
     },
     "metadata": {
      "needs_background": "light"
     },
     "output_type": "display_data"
    }
   ],
   "source": [
    "pd.pivot_table(ff.reset_index(),\n",
    "               index='dateTime', columns='participant', values='commandParameters'\n",
    "              ).plot.bar(subplots=True, layout=(10,1),figsize=(20, 30))#,ylim=[0,600])"
   ]
  },
  {
   "cell_type": "code",
   "execution_count": 314,
   "id": "ca9cf2c0",
   "metadata": {},
   "outputs": [
    {
     "data": {
      "text/plain": [
       "array([[<AxesSubplot:title={'center':' GET'}, xlabel='dateTime'>],\n",
       "       [<AxesSubplot:xlabel='dateTime'>],\n",
       "       [<AxesSubplot:xlabel='dateTime'>],\n",
       "       [<AxesSubplot:xlabel='dateTime'>],\n",
       "       [<AxesSubplot:xlabel='dateTime'>],\n",
       "       [<AxesSubplot:xlabel='dateTime'>],\n",
       "       [<AxesSubplot:xlabel='dateTime'>],\n",
       "       [<AxesSubplot:xlabel='dateTime'>],\n",
       "       [<AxesSubplot:xlabel='dateTime'>],\n",
       "       [<AxesSubplot:xlabel='dateTime'>]], dtype=object)"
      ]
     },
     "execution_count": 314,
     "metadata": {},
     "output_type": "execute_result"
    },
    {
     "data": {
      "image/png": "[encoded data removed]",
      "text/plain": [
       "<Figure size 1440x2160 with 10 Axes>"
      ]
     },
     "metadata": {
      "needs_background": "light"
     },
     "output_type": "display_data"
    }
   ],
   "source": [
    "pp = logs.groupby(['participant','commandType',logs.dateTime.dt.date])\n",
    "ff = pp.agg({'commandParameters':'count'})\n",
    "pd.pivot_table(ff.reset_index(),\n",
    "               index='dateTime', columns='commandType', values='commandParameters'\n",
    "              ).plot.bar(subplots=True, layout=(10,1),figsize=(20, 30))"
   ]
  },
  {
   "cell_type": "code",
   "execution_count": null,
   "id": "fb577a84",
   "metadata": {},
   "outputs": [],
   "source": []
  },
  {
   "cell_type": "code",
   "execution_count": null,
   "id": "d607d63f",
   "metadata": {},
   "outputs": [],
   "source": []
  },
  {
   "cell_type": "code",
   "execution_count": null,
   "id": "4d866780",
   "metadata": {},
   "outputs": [],
   "source": []
  },
  {
   "cell_type": "code",
   "execution_count": null,
   "id": "1a6d204f",
   "metadata": {},
   "outputs": [],
   "source": []
  },
  {
   "cell_type": "code",
   "execution_count": null,
   "id": "6cb9a33b",
   "metadata": {},
   "outputs": [],
   "source": []
  },
  {
   "cell_type": "code",
   "execution_count": null,
   "id": "e72857c7",
   "metadata": {},
   "outputs": [],
   "source": []
  }
 ],
 "metadata": {
  "kernelspec": {
   "display_name": "Python 3 (ipykernel)",
   "language": "python",
   "name": "python3"
  },
  "language_info": {
   "codemirror_mode": {
    "name": "ipython",
    "version": 3
   },
   "file_extension": ".py",
   "mimetype": "text/x-python",
   "name": "python",
   "nbconvert_exporter": "python",
   "pygments_lexer": "ipython3",
   "version": "3.10.4"
  }
 },
 "nbformat": 4,
 "nbformat_minor": 5
}
